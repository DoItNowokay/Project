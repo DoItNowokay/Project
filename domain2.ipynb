{
 "cells": [
  {
   "cell_type": "code",
   "execution_count": 1,
   "metadata": {},
   "outputs": [],
   "source": [
    "import pandas as pd\n",
    "import pickle\n",
    "import numpy as np\n",
    "import matplotlib.pyplot as plt\n",
    "from copy import deepcopy"
   ]
  },
  {
   "cell_type": "code",
   "execution_count": 2,
   "metadata": {},
   "outputs": [],
   "source": [
    "def loadObject(fname):\n",
    "    with open(fname, \"rb\") as obj_file:  # Open in binary mode\n",
    "        obj = pickle.load(obj_file)\n",
    "    return obj\n",
    "\n",
    "def extract_atiras(database):\n",
    "    db1 = database[database['a'] <= 1.0]    # atiras have a<=1AU and Q<=.983AU\n",
    "    db2=db1[2*db1['a']-db1['q']<=.983]\n",
    "    return db2, len(db2)\n",
    "\n",
    "def extract_atens(database):\n",
    "    db1 = database[database['a'] <= 1.0]\n",
    "    db2=db1[2*db1['a']-db1['q']>=.938]\n",
    "    return db2, len(db2)\n",
    " \n",
    "def get_apollos(database):\n",
    "    db1 = database[database['a'] >= 1.0]\n",
    "    db2 = db1[db1['q'] <= 1.017]\n",
    "    return db2, len(db2)\n",
    "\n",
    "def normalize_data(dataframe,columns=[],min_maz_norm=True):\n",
    "    try:\n",
    "        norm_db=dataframe[columns]\n",
    "    except:\n",
    "        print(\"some error\")\n",
    "        raise KeyError\n",
    "    # return norm_db\n",
    "    for i in columns:\n",
    "        if(min_maz_norm):\n",
    "            norm_db[i]=(norm_db[i]-min(norm_db[i]))/(max(norm_db[i])-min(norm_db[i]))\n",
    "        # pending normalization zero mean unit variance\n",
    "    return norm_db\n",
    "\n",
    "def split_by_colval(dataset, colname, value):\n",
    "    dataset_left = dataset[dataset[colname] <= value]\n",
    "    dataset_right = dataset[dataset[colname] > value]\n",
    "    return dataset_left, dataset_right\n",
    "\n",
    "def add_doublemirror_column(dataset, colname, value):\n",
    "    \"\"\" \n",
    "    Extends dataset by its mirrors over the 'value' and \n",
    "    the half 'value' of the 'colname'.\n",
    "    \"\"\"\n",
    "\n",
    "    left, right = split_by_colval(dataset, colname, value)\n",
    "    left_mir, right_mir = map(deepcopy, [left, right])\n",
    "    left_mir[colname] = value - left[colname]\n",
    "    right_mir[colname] = 3*value - right[colname]\n",
    "    half_mirror = pd.concat((left_mir, right_mir, dataset))\n",
    "\n",
    "    dataset_mirror = deepcopy(half_mirror)\n",
    "    dataset_mirror[colname] = value*2 - dataset_mirror[colname]\n",
    "    dataset_extended = pd.concat((half_mirror, dataset_mirror))\n",
    "\n",
    "    return dataset_extended"
   ]
  },
  {
   "cell_type": "code",
   "execution_count": 3,
   "metadata": {},
   "outputs": [
    {
     "name": "stdout",
     "output_type": "stream",
     "text": [
      "Number of virtual asteroids in the domain: 3754\n",
      "Number of real asteroids in the domain: 3754\n"
     ]
    }
   ],
   "source": [
    "dirpath = './data/'\n",
    "real_datasets = ['haz_real', 'nohaz_real']\n",
    "gen_datasets = ['haz_nonuniform', 'nohaz_nonuniform']\n",
    "genu_datasets = ['haz_uniform', 'nohaz_uniform']\n",
    "name_sufixes = ['_domain2.p', '_domain2_rest.p']\n",
    "dumps_real = [dirpath + ds + ns for ns in name_sufixes for ds in real_datasets]\n",
    "dumps_gen = [dirpath + ds + ns for ns in name_sufixes for ds in gen_datasets]\n",
    "dumps_genu = [dirpath + ds + ns for ns in name_sufixes for ds in genu_datasets]\n",
    "\n",
    "haz_real, nohaz_real, haz_real_rest, nohaz_real_rest = map(loadObject, dumps_real)\n",
    "haz_gen, nohaz_gen, haz_gen_rest, nohaz_gen_rest = map(loadObject, dumps_gen)\n",
    "haz_genu, nohaz_genu, haz_genu_rest, nohaz_genu_rest = map(loadObject, dumps_genu)\n",
    "gen_num = sum(map(len, [haz_gen, nohaz_gen]))\n",
    "real_num = sum(map(len, [haz_real, nohaz_real]))\n",
    "\n",
    "print (\"Number of virtual asteroids in the domain:\", gen_num)\n",
    "print (\"Number of real asteroids in the domain:\", real_num)"
   ]
  },
  {
   "cell_type": "markdown",
   "metadata": {},
   "source": [
    "# atiras"
   ]
  },
  {
   "cell_type": "code",
   "execution_count": 4,
   "metadata": {},
   "outputs": [
    {
     "name": "stdout",
     "output_type": "stream",
     "text": [
      "Number of virtual Atiras: 30\n",
      "Number of real Atiras: 30\n"
     ]
    }
   ],
   "source": [
    "haz_gen_atiras, haz_gen_atiras_num = extract_atiras(haz_gen)\n",
    "nohaz_gen_atiras, nohaz_gen_atiras_num = extract_atiras(nohaz_gen)\n",
    "atiras_gen_num = haz_gen_atiras_num + nohaz_gen_atiras_num\n",
    "\n",
    "haz_real_atiras, haz_real_atiras_num =extract_atiras(haz_real)\n",
    "nohaz_real_atiras, nohaz_real_atiras_num = extract_atiras(nohaz_real)\n",
    "atiras_real_num = haz_real_atiras_num + nohaz_real_atiras_num\n",
    "\n",
    "print (\"Number of virtual Atiras:\", atiras_gen_num)\n",
    "print (\"Number of real Atiras:\", atiras_real_num)"
   ]
  },
  {
   "cell_type": "markdown",
   "metadata": {},
   "source": [
    "# atens"
   ]
  },
  {
   "cell_type": "code",
   "execution_count": 5,
   "metadata": {},
   "outputs": [
    {
     "name": "stdout",
     "output_type": "stream",
     "text": [
      "Number of virtual Atens: 1175\n",
      "Number of real Atens: 1175\n"
     ]
    }
   ],
   "source": [
    "haz_gen_atens, haz_gen_atens_num =extract_atens(haz_gen)\n",
    "nohaz_gen_atens, nohaz_gen_atens_num = extract_atens(nohaz_gen)\n",
    "atens_gen_num = haz_gen_atens_num + nohaz_gen_atens_num\n",
    "\n",
    "haz_real_atens, haz_real_atens_num = extract_atens(haz_real)\n",
    "nohaz_real_atens, nohaz_real_atens_num = extract_atens(nohaz_real)\n",
    "atens_real_num = haz_real_atens_num + nohaz_real_atens_num\n",
    "\n",
    "print (\"Number of virtual Atens:\", atens_gen_num)\n",
    "print (\"Number of real Atens:\", atens_real_num)"
   ]
  },
  {
   "cell_type": "code",
   "execution_count": 6,
   "metadata": {},
   "outputs": [],
   "source": [
    "# atiras+atens\n",
    "# combining atiras and atens\n",
    "haz_gen_atiras_atens=pd.concat([haz_gen_atiras,haz_gen_atens])\n",
    "nohaz_gen_atiras_atens=pd.concat([nohaz_gen_atiras,nohaz_gen_atens])\n",
    "haz_real_atiras_atens=pd.concat([haz_real_atiras,haz_real_atens])\n",
    "nohaz_real_atiras_atens=pd.concat([nohaz_real_atiras,nohaz_real_atens])"
   ]
  },
  {
   "cell_type": "code",
   "execution_count": 7,
   "metadata": {},
   "outputs": [
    {
     "name": "stdout",
     "output_type": "stream",
     "text": [
      "number of non hazardous generated atras ans atens 412\n",
      "number of hazardous generated atras ans atens 793\n"
     ]
    }
   ],
   "source": [
    "print(\"number of non hazardous generated atras ans atens\", len(nohaz_gen_atiras_atens))\n",
    "print(\"number of hazardous generated atras ans atens\", len(haz_gen_atiras_atens))"
   ]
  },
  {
   "cell_type": "code",
   "execution_count": 8,
   "metadata": {},
   "outputs": [
    {
     "data": {
      "text/html": [
       "<div>\n",
       "<style scoped>\n",
       "    .dataframe tbody tr th:only-of-type {\n",
       "        vertical-align: middle;\n",
       "    }\n",
       "\n",
       "    .dataframe tbody tr th {\n",
       "        vertical-align: top;\n",
       "    }\n",
       "\n",
       "    .dataframe thead th {\n",
       "        text-align: right;\n",
       "    }\n",
       "</style>\n",
       "<table border=\"1\" class=\"dataframe\">\n",
       "  <thead>\n",
       "    <tr style=\"text-align: right;\">\n",
       "      <th></th>\n",
       "      <th>neo</th>\n",
       "      <th>pha</th>\n",
       "      <th>H</th>\n",
       "      <th>e</th>\n",
       "      <th>a</th>\n",
       "      <th>q</th>\n",
       "      <th>i</th>\n",
       "      <th>om</th>\n",
       "      <th>w</th>\n",
       "      <th>moid</th>\n",
       "    </tr>\n",
       "  </thead>\n",
       "  <tbody>\n",
       "  </tbody>\n",
       "</table>\n",
       "</div>"
      ],
      "text/plain": [
       "Empty DataFrame\n",
       "Columns: [neo, pha, H, e, a, q, i, om, w, moid]\n",
       "Index: []"
      ]
     },
     "execution_count": 8,
     "metadata": {},
     "output_type": "execute_result"
    }
   ],
   "source": [
    "len(np.array(nohaz_gen_atiras_atens.loc[nohaz_gen_atiras_atens['a']>100]['a']))\n",
    "nohaz_gen_atiras_atens[nohaz_gen_atiras_atens['a']>100]"
   ]
  },
  {
   "cell_type": "code",
   "execution_count": 9,
   "metadata": {},
   "outputs": [
    {
     "data": {
      "text/plain": [
       "<matplotlib.collections.PathCollection at 0x26275b07e10>"
      ]
     },
     "execution_count": 9,
     "metadata": {},
     "output_type": "execute_result"
    },
    {
     "data": {
      "image/png": "[encoded data removed]",
      "text/plain": [
       "<Figure size 640x480 with 1 Axes>"
      ]
     },
     "metadata": {},
     "output_type": "display_data"
    }
   ],
   "source": [
    "plt.scatter(np.array(nohaz_gen_atiras_atens.loc[nohaz_gen_atiras_atens['a']>-100]['a']),np.array(nohaz_gen_atiras_atens.loc[nohaz_gen_atiras_atens['a']>-100]['i']),s=1.5)\n",
    "plt.scatter(np.array(haz_gen_atiras_atens[haz_gen_atiras_atens['a']>-100]['a']),np.array(haz_gen_atiras_atens[haz_gen_atiras_atens['a']>-100]['i']),s=1.5)"
   ]
  },
  {
   "cell_type": "code",
   "execution_count": 10,
   "metadata": {},
   "outputs": [],
   "source": [
    "pd.options.mode.chained_assignment = None\n",
    "norm_haz_gen_atiras_atens=normalize_data(haz_gen_atiras_atens,columns=['w','a','i'])\n",
    "norm_nohaz_gen_atiras_atens=normalize_data(nohaz_gen_atiras_atens,columns=['w','a','i'])\n",
    "norm_haz_real_atiras_atens=normalize_data(haz_real_atiras_atens,columns=['w','a','i'])\n",
    "norm_nohaz_real_atiras_atens=normalize_data(nohaz_real_atiras_atens,columns=['w','a','i'])"
   ]
  },
  {
   "cell_type": "code",
   "execution_count": 11,
   "metadata": {},
   "outputs": [
    {
     "data": {
      "text/plain": [
       "843"
      ]
     },
     "execution_count": 11,
     "metadata": {},
     "output_type": "execute_result"
    }
   ],
   "source": [
    "from sklearn import neighbors, svm\n",
    "from sklearn.model_selection import train_test_split\n",
    "data=pd.concat([norm_haz_gen_atiras_atens,norm_nohaz_gen_atiras_atens])\n",
    "data_label=[1 for i in range(len(norm_haz_gen_atiras_atens))]\n",
    "for i in range(len(norm_nohaz_gen_atiras_atens)):\n",
    "    data_label.append(0)\n",
    "train_data,test_data,train_label,test_label=train_test_split(data,data_label,test_size=0.3,shuffle=True)\n",
    "len(train_data)"
   ]
  },
  {
   "cell_type": "markdown",
   "metadata": {},
   "source": [
    "# RANDOM FOREST"
   ]
  },
  {
   "cell_type": "code",
   "execution_count": 12,
   "metadata": {},
   "outputs": [
    {
     "name": "stdout",
     "output_type": "stream",
     "text": [
      "\n",
      "ACCURACY OF THE RANDOM FOREST MODEL:  0.8287292817679558\n"
     ]
    }
   ],
   "source": [
    "from sklearn.ensemble import RandomForestClassifier \n",
    "clf = RandomForestClassifier(max_depth=5,min_samples_split=2,)   \n",
    "clf.fit(train_data,train_label)\n",
    "y_pred=clf.predict(test_data)\n",
    "from sklearn import metrics   \n",
    "print() \n",
    "  \n",
    "# using metrics module for accuracy calculation \n",
    "print(\"ACCURACY OF THE RANDOM FOREST MODEL: \", metrics.accuracy_score(test_label, y_pred)) "
   ]
  },
  {
   "cell_type": "markdown",
   "metadata": {},
   "source": [
    "# XG BOOST"
   ]
  },
  {
   "cell_type": "code",
   "execution_count": 13,
   "metadata": {},
   "outputs": [
    {
     "name": "stdout",
     "output_type": "stream",
     "text": [
      "\n",
      "ACCURACY OF THE XGBOOST MODEL:  0.8591160220994475\n"
     ]
    }
   ],
   "source": [
    "from xgboost import XGBClassifier\n",
    "model_xg=XGBClassifier()\n",
    "model_xg.fit(train_data,train_label)\n",
    "y_pred=model_xg.predict(test_data)\n",
    "print() \n",
    "  \n",
    "# using metrics module for accuracy calculation \n",
    "print(\"ACCURACY OF THE XGBOOST MODEL: \", metrics.accuracy_score(test_label, y_pred))"
   ]
  },
  {
   "cell_type": "markdown",
   "metadata": {},
   "source": [
    "# SVM"
   ]
  },
  {
   "cell_type": "code",
   "execution_count": 14,
   "metadata": {},
   "outputs": [
    {
     "name": "stdout",
     "output_type": "stream",
     "text": [
      "\n",
      "ACCURACY OF THE SVM MODEL:  0.6657458563535912\n"
     ]
    }
   ],
   "source": [
    "model_svm=svm.SVC()\n",
    "model_svm.fit(train_data,train_label)\n",
    "y_pred=model_svm.predict(test_data)\n",
    "print() \n",
    "  \n",
    "# using metrics module for accuracy calculation \n",
    "print(\"ACCURACY OF THE SVM MODEL: \", metrics.accuracy_score(test_label, y_pred))"
   ]
  },
  {
   "cell_type": "markdown",
   "metadata": {},
   "source": [
    "# APOLLO"
   ]
  },
  {
   "cell_type": "code",
   "execution_count": 15,
   "metadata": {},
   "outputs": [],
   "source": [
    "haz_gen_apollo, haz_gen_apollo_num = get_apollos(haz_gen)\n",
    "nohaz_gen_apollo, nohaz_gen_apollo_num = get_apollos(nohaz_gen)\n",
    "apollo_gen_num = haz_gen_apollo_num + nohaz_gen_apollo_num\n",
    "\n",
    "haz_genu_apollo, haz_genu_apollo_num = get_apollos(haz_genu)\n",
    "nohaz_genu_apollo, nohaz_genu_apollo_num = get_apollos(nohaz_genu)\n",
    "apollo_genu_num = haz_genu_apollo_num + nohaz_genu_apollo_num\n",
    "\n",
    "haz_real_apollo, haz_real_apollo_num = get_apollos(haz_real)\n",
    "nohaz_real_apollo, nohaz_real_apollo_num = get_apollos(nohaz_real)\n",
    "apollo_real_num = haz_real_apollo_num + nohaz_real_apollo_num"
   ]
  },
  {
   "cell_type": "code",
   "execution_count": 16,
   "metadata": {},
   "outputs": [
    {
     "name": "stdout",
     "output_type": "stream",
     "text": [
      "Number of virtual PHAs in the group: 746\n",
      "Number of virtual NHAs in the group: 1814\n",
      "Number of virtual Apollo: 2560\n",
      "Apollo group weight: 0.6819392647842302\n"
     ]
    }
   ],
   "source": [
    "print (\"Number of virtual PHAs in the group:\", haz_gen_apollo_num)\n",
    "print (\"Number of virtual NHAs in the group:\", nohaz_gen_apollo_num)\n",
    "print (\"Number of virtual Apollo:\", apollo_gen_num)\n",
    "print (\"Apollo group weight:\", float(apollo_gen_num)/gen_num)"
   ]
  },
  {
   "cell_type": "code",
   "execution_count": 17,
   "metadata": {},
   "outputs": [
    {
     "name": "stdout",
     "output_type": "stream",
     "text": [
      "Number of real PHAs in the group: 746\n",
      "Number of real NHAs in the group: 1814\n",
      "Number of real Apollo: 2560\n",
      "Apollo group weight: 0.6819392647842302\n"
     ]
    }
   ],
   "source": [
    "print (\"Number of real PHAs in the group:\", haz_real_apollo_num)\n",
    "print (\"Number of real NHAs in the group:\", nohaz_real_apollo_num)\n",
    "print (\"Number of real Apollo:\", apollo_real_num)\n",
    "print (\"Apollo group weight:\", float(apollo_real_num)/real_num)"
   ]
  },
  {
   "cell_type": "code",
   "execution_count": 18,
   "metadata": {},
   "outputs": [],
   "source": [
    "pd.options.mode.chained_assignment = None\n",
    "# haz_gen_apollo = add_doublemirror_column(haz_gen_apollo, 'w', 180.0)\n",
    "# haz_genu_apollo = add_doublemirror_column(haz_genu_apollo, 'w', 180.0)\n",
    "# nohaz_gen_apollo = add_doublemirror_column(nohaz_gen_apollo, 'w', 180.0)\n",
    "# nohaz_genu_apollo = add_doublemirror_column(nohaz_genu_apollo, 'w', 180.0)\n",
    "# haz_genu_apollo = add_doublemirror_column(haz_genu_apollo, 'w', 180.0)\n",
    "norm_haz_gen_apollo=normalize_data(haz_gen_apollo,['w','q','i'])\n",
    "norm_nohaz_gen_apollo=normalize_data(nohaz_gen_apollo,['w','q','i'])\n",
    "norm_haz_genu_apollo=normalize_data(haz_genu_apollo,['w','q','i'])\n",
    "norm_nohaz_genu_apollo=normalize_data(nohaz_genu_apollo,['w','q','i'])\n",
    "norm_haz_real_apollo=normalize_data(haz_real_apollo,['w','q','i'])\n",
    "norm_nohaz_real_apollo=normalize_data(nohaz_real_apollo,['w','q','i'])"
   ]
  },
  {
   "cell_type": "code",
   "execution_count": 19,
   "metadata": {},
   "outputs": [
    {
     "data": {
      "text/plain": [
       "<matplotlib.collections.PathCollection at 0x26209ad6550>"
      ]
     },
     "execution_count": 19,
     "metadata": {},
     "output_type": "execute_result"
    },
    {
     "data": {
      "image/png": "[encoded data removed]",
      "text/plain": [
       "<Figure size 2000x1000 with 2 Axes>"
      ]
     },
     "metadata": {},
     "output_type": "display_data"
    }
   ],
   "source": [
    "plt.figure(figsize=(20,10))\n",
    "plt.subplot(1,2,1)\n",
    "plt.scatter(nohaz_gen_apollo['w'],nohaz_gen_apollo['i'],color='blue',s=1.5)\n",
    "plt.subplot(1,2,2)\n",
    "plt.scatter(haz_gen_apollo['w'],haz_gen_apollo['i'],color='orange',s=1.5)"
   ]
  },
  {
   "cell_type": "code",
   "execution_count": 20,
   "metadata": {},
   "outputs": [
    {
     "data": {
      "text/plain": [
       "2942"
      ]
     },
     "execution_count": 20,
     "metadata": {},
     "output_type": "execute_result"
    }
   ],
   "source": [
    "data=pd.concat([norm_haz_genu_apollo,norm_nohaz_genu_apollo])\n",
    "data_label=[1 for i in range(len(norm_haz_genu_apollo))]\n",
    "for i in range(len(norm_nohaz_genu_apollo)):\n",
    "    data_label.append(0)\n",
    "train_data,test_data,train_label,test_label=train_test_split(data,data_label,test_size=0.3,shuffle=True)\n",
    "len(train_data)"
   ]
  },
  {
   "cell_type": "markdown",
   "metadata": {},
   "source": [
    "# RANDOM FOREST"
   ]
  },
  {
   "cell_type": "code",
   "execution_count": 24,
   "metadata": {},
   "outputs": [
    {
     "name": "stdout",
     "output_type": "stream",
     "text": [
      "\n",
      "ACCURACY OF THE RANDOM FOREST MODEL:  0.93026941362916\n"
     ]
    }
   ],
   "source": [
    "clf = RandomForestClassifier(max_depth=5,min_samples_split=2,)   \n",
    "clf.fit(train_data,train_label)\n",
    "y_pred=clf.predict(test_data)\n",
    "from sklearn import metrics   \n",
    "print() \n",
    "  \n",
    "# using metrics module for accuracy calculation \n",
    "print(\"ACCURACY OF THE RANDOM FOREST MODEL: \", metrics.accuracy_score(test_label, y_pred)) "
   ]
  },
  {
   "cell_type": "markdown",
   "metadata": {},
   "source": [
    "# XG BOOST"
   ]
  },
  {
   "cell_type": "code",
   "execution_count": 25,
   "metadata": {},
   "outputs": [
    {
     "name": "stdout",
     "output_type": "stream",
     "text": [
      "\n",
      "ACCURACY OF THE XGBOOST MODEL:  0.9461172741679873\n"
     ]
    }
   ],
   "source": [
    "model_xg=XGBClassifier()\n",
    "model_xg.fit(train_data,train_label)\n",
    "y_pred=model_xg.predict(test_data)\n",
    "print() \n",
    "  \n",
    "# using metrics module for accuracy calculation \n",
    "print(\"ACCURACY OF THE XGBOOST MODEL: \", metrics.accuracy_score(test_label, y_pred))"
   ]
  },
  {
   "cell_type": "markdown",
   "metadata": {},
   "source": [
    "# svm"
   ]
  },
  {
   "cell_type": "code",
   "execution_count": 26,
   "metadata": {},
   "outputs": [
    {
     "name": "stdout",
     "output_type": "stream",
     "text": [
      "\n",
      "ACCURACY OF THE SVM MODEL:  0.93026941362916\n"
     ]
    }
   ],
   "source": [
    "model_svm=svm.SVC()\n",
    "model_svm.fit(train_data,train_label)\n",
    "y_pred=model_svm.predict(test_data)\n",
    "print() \n",
    "  \n",
    "# using metrics module for accuracy calculation \n",
    "print(\"ACCURACY OF THE SVM MODEL: \", metrics.accuracy_score(test_label, y_pred))"
   ]
  }
 ],
 "metadata": {
  "kernelspec": {
   "display_name": "Python 3",
   "language": "python",
   "name": "python3"
  },
  "language_info": {
   "codemirror_mode": {
    "name": "ipython",
    "version": 3
   },
   "file_extension": ".py",
   "mimetype": "text/x-python",
   "name": "python",
   "nbconvert_exporter": "python",
   "pygments_lexer": "ipython3",
   "version": "3.11.0"
  }
 },
 "nbformat": 4,
 "nbformat_minor": 2
}
