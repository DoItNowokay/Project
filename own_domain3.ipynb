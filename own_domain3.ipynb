{
 "cells": [
  {
   "cell_type": "code",
   "execution_count": 27,
   "metadata": {},
   "outputs": [],
   "source": [
    "#importing necessory libraries\n",
    "import pandas as pd\n",
    "import pickle\n",
    "import numpy as np\n",
    "import matplotlib.pyplot as plt\n",
    "from copy import deepcopy"
   ]
  },
  {
   "cell_type": "code",
   "execution_count": 28,
   "metadata": {},
   "outputs": [],
   "source": [
    "def loadObject(fname):\n",
    "    with open(fname, \"rb\") as obj_file:  # Open in binary mode\n",
    "        obj = pickle.load(obj_file)\n",
    "    return obj\n",
    "\n",
    "def extract_atiras(database):\n",
    "    db1 = database[database['a'] <= 1.0]    # atiras have a<=1AU and Q<=.983AU\n",
    "    db2=db1[2*db1['a']-db1['q']<=.983]\n",
    "    return db2, len(db2)\n",
    "\n",
    "def extract_atens(database):\n",
    "    db1 = database[database['a'] <= 1.0]\n",
    "    db2=db1[2*db1['a']-db1['q']>=.938]\n",
    "    return db2, len(db2)\n",
    " \n",
    "def get_apollos(database):\n",
    "    db1 = database[database['a'] >= 1.0]\n",
    "    db2 = db1[db1['q'] <= 1.017]\n",
    "    return db2, len(db2)\n",
    "\n",
    "def normalize_data(dataframe,columns=[],min_maz_norm=True):\n",
    "    try:\n",
    "        norm_db=dataframe[columns]\n",
    "    except:\n",
    "        print(\"some error\")\n",
    "        raise KeyError\n",
    "    # return norm_db\n",
    "    for i in columns:\n",
    "        if(min_maz_norm):\n",
    "            norm_db[i]=(norm_db[i]-min(norm_db[i]))/(max(norm_db[i])-min(norm_db[i]))\n",
    "        # pending normalization zero mean unit variance\n",
    "    return norm_db\n",
    "\n",
    "def split_by_colval(dataset, colname, value):\n",
    "    dataset_left = dataset[dataset[colname] <= value]\n",
    "    dataset_right = dataset[dataset[colname] > value]\n",
    "    return dataset_left, dataset_right\n",
    "\n",
    "def add_doublemirror_column(dataset, colname, value):\n",
    "    \"\"\" \n",
    "    Extends dataset by its mirrors over the 'value' and \n",
    "    the half 'value' of the 'colname'.\n",
    "    \"\"\"\n",
    "\n",
    "    left, right = split_by_colval(dataset, colname, value)\n",
    "    left_mir, right_mir = map(deepcopy, [left, right])\n",
    "    left_mir[colname] = value - left[colname]\n",
    "    right_mir[colname] = 3*value - right[colname]\n",
    "    half_mirror = pd.concat((left_mir, right_mir, dataset))\n",
    "\n",
    "    dataset_mirror = deepcopy(half_mirror)\n",
    "    dataset_mirror[colname] = value*2 - dataset_mirror[colname]\n",
    "    dataset_extended = pd.concat((half_mirror, dataset_mirror))\n",
    "\n",
    "    return dataset_extended"
   ]
  },
  {
   "cell_type": "code",
   "execution_count": 29,
   "metadata": {},
   "outputs": [
    {
     "name": "stdout",
     "output_type": "stream",
     "text": [
      "Number of virtual asteroids in the domain: 118\n",
      "Number of real asteroids in the domain: 118\n"
     ]
    }
   ],
   "source": [
    "dirpath = './data/'\n",
    "real_datasets = ['haz_real', 'nohaz_real']\n",
    "gen_datasets = ['haz_nonuniform', 'nohaz_nonuniform']\n",
    "genu_datasets = ['haz_uniform', 'nohaz_uniform']\n",
    "name_sufixes = ['_domain3.p', '_domain3_rest.p']\n",
    "dumps_real = [dirpath + ds + ns for ns in name_sufixes for ds in real_datasets]\n",
    "dumps_gen = [dirpath + ds + ns for ns in name_sufixes for ds in gen_datasets]\n",
    "dumps_genu = [dirpath + ds + ns for ns in name_sufixes for ds in genu_datasets]\n",
    "\n",
    "haz_real, nohaz_real, haz_real_rest, nohaz_real_rest = map(loadObject, dumps_real)\n",
    "haz_gen, nohaz_gen, haz_gen_rest, nohaz_gen_rest = map(loadObject, dumps_gen)\n",
    "haz_genu, nohaz_genu, haz_genu_rest, nohaz_genu_rest = map(loadObject, dumps_genu)\n",
    "gen_num = sum(map(len, [haz_gen, nohaz_gen]))\n",
    "real_num = sum(map(len, [haz_real, nohaz_real]))\n",
    "\n",
    "print (\"Number of virtual asteroids in the domain:\", gen_num)\n",
    "print (\"Number of real asteroids in the domain:\", real_num)"
   ]
  },
  {
   "cell_type": "code",
   "execution_count": 30,
   "metadata": {},
   "outputs": [
    {
     "name": "stdout",
     "output_type": "stream",
     "text": [
      "Number of virtual Atiras: 2\n",
      "Number of real Atiras: 2\n"
     ]
    }
   ],
   "source": [
    "haz_gen_atiras, haz_gen_atiras_num = extract_atiras(haz_gen)\n",
    "nohaz_gen_atiras, nohaz_gen_atiras_num = extract_atiras(nohaz_gen)\n",
    "atiras_gen_num = haz_gen_atiras_num + nohaz_gen_atiras_num\n",
    "\n",
    "haz_real_atiras, haz_real_atiras_num =extract_atiras(haz_real)\n",
    "nohaz_real_atiras, nohaz_real_atiras_num = extract_atiras(nohaz_real)\n",
    "atiras_real_num = haz_real_atiras_num + nohaz_real_atiras_num\n",
    "\n",
    "print (\"Number of virtual Atiras:\", atiras_gen_num)\n",
    "print (\"Number of real Atiras:\", atiras_real_num)"
   ]
  },
  {
   "cell_type": "code",
   "execution_count": 31,
   "metadata": {},
   "outputs": [
    {
     "name": "stdout",
     "output_type": "stream",
     "text": [
      "Number of virtual Atens: 27\n",
      "Number of real Atens: 27\n"
     ]
    }
   ],
   "source": [
    "haz_gen_atens, haz_gen_atens_num =extract_atens(haz_gen)\n",
    "nohaz_gen_atens, nohaz_gen_atens_num = extract_atens(nohaz_gen)\n",
    "atens_gen_num = haz_gen_atens_num + nohaz_gen_atens_num\n",
    "\n",
    "haz_real_atens, haz_real_atens_num = extract_atens(haz_real)\n",
    "nohaz_real_atens, nohaz_real_atens_num = extract_atens(nohaz_real)\n",
    "atens_real_num = haz_real_atens_num + nohaz_real_atens_num\n",
    "\n",
    "print (\"Number of virtual Atens:\", atens_gen_num)\n",
    "print (\"Number of real Atens:\", atens_real_num)"
   ]
  },
  {
   "cell_type": "code",
   "execution_count": 32,
   "metadata": {},
   "outputs": [],
   "source": [
    "#combining atiras and atens\n",
    "haz_gen_atiras_atens=pd.concat([haz_gen_atiras,haz_gen_atens])\n",
    "nohaz_gen_atiras_atens=pd.concat([nohaz_gen_atiras,nohaz_gen_atens])\n",
    "haz_real_atiras_atens=pd.concat([haz_real_atiras,haz_real_atens])\n",
    "nohaz_real_atiras_atens=pd.concat([nohaz_real_atiras,nohaz_real_atens])"
   ]
  },
  {
   "cell_type": "code",
   "execution_count": 33,
   "metadata": {},
   "outputs": [
    {
     "data": {
      "text/plain": [
       "<matplotlib.collections.PathCollection at 0x261ee48d790>"
      ]
     },
     "execution_count": 33,
     "metadata": {},
     "output_type": "execute_result"
    },
    {
     "data": {
      "image/png": "[encoded data removed]",
      "text/plain": [
       "<Figure size 640x480 with 1 Axes>"
      ]
     },
     "metadata": {},
     "output_type": "display_data"
    }
   ],
   "source": [
    "plt.scatter(np.array(nohaz_gen_atiras_atens['w']),np.array(nohaz_gen_atiras_atens['i']),s=.2)\n",
    "plt.scatter(np.array(haz_gen_atiras_atens['w']),np.array(haz_gen_atiras_atens['i']),s=.2)"
   ]
  },
  {
   "cell_type": "code",
   "execution_count": null,
   "metadata": {},
   "outputs": [],
   "source": []
  },
  {
   "cell_type": "code",
   "execution_count": 34,
   "metadata": {},
   "outputs": [],
   "source": [
    "norm_haz_gen_atiras_atens=normalize_data(haz_gen_atiras_atens,columns=['w','i'])\n",
    "norm_nohaz_gen_atiras_atens=normalize_data(nohaz_gen_atiras_atens,columns=['w','i'])\n",
    "norm_haz_real_atiras_atens=normalize_data(haz_real_atiras_atens,columns=['w','i'])\n",
    "norm_nohaz_real_atiras_atens=normalize_data(nohaz_real_atiras_atens,columns=['w','i'])"
   ]
  },
  {
   "cell_type": "code",
   "execution_count": 35,
   "metadata": {},
   "outputs": [
    {
     "data": {
      "text/plain": [
       "<matplotlib.collections.PathCollection at 0x261ee4f29d0>"
      ]
     },
     "execution_count": 35,
     "metadata": {},
     "output_type": "execute_result"
    },
    {
     "data": {
      "image/png": "[encoded data removed]",
      "text/plain": [
       "<Figure size 640x480 with 1 Axes>"
      ]
     },
     "metadata": {},
     "output_type": "display_data"
    }
   ],
   "source": [
    "plt.scatter(np.array(norm_nohaz_gen_atiras_atens['w']),np.array(norm_nohaz_gen_atiras_atens['i']),s=.2)\n",
    "plt.scatter(np.array(norm_haz_gen_atiras_atens['w']),np.array(norm_haz_gen_atiras_atens['i']),s=.2)"
   ]
  },
  {
   "cell_type": "code",
   "execution_count": 36,
   "metadata": {},
   "outputs": [
    {
     "data": {
      "text/plain": [
       "20"
      ]
     },
     "execution_count": 36,
     "metadata": {},
     "output_type": "execute_result"
    }
   ],
   "source": [
    "from sklearn import neighbors, svm\n",
    "from sklearn.model_selection import train_test_split\n",
    "data=pd.concat([norm_haz_gen_atiras_atens,norm_nohaz_gen_atiras_atens])\n",
    "data_label=[1 for i in range(len(norm_haz_gen_atiras_atens))]\n",
    "for i in range(len(norm_nohaz_gen_atiras_atens)):\n",
    "    data_label.append(0)\n",
    "train_data,test_data,train_label,test_label=train_test_split(data,data_label,test_size=0.3,shuffle=True)\n",
    "len(train_data)"
   ]
  },
  {
   "cell_type": "code",
   "execution_count": 37,
   "metadata": {},
   "outputs": [
    {
     "name": "stdout",
     "output_type": "stream",
     "text": [
      "\n",
      "ACCURACY OF THE RANDOM FOREST MODEL:  1.0\n"
     ]
    }
   ],
   "source": [
    "from sklearn.ensemble import RandomForestClassifier \n",
    "clf = RandomForestClassifier(max_depth=5,min_samples_split=2,)   \n",
    "clf.fit(train_data,train_label)\n",
    "y_pred=clf.predict(test_data)\n",
    "from sklearn import metrics   \n",
    "print() \n",
    "  \n",
    "# using metrics module for accuracy calculation \n",
    "print(\"ACCURACY OF THE RANDOM FOREST MODEL: \", metrics.accuracy_score(test_label, y_pred)) "
   ]
  },
  {
   "cell_type": "code",
   "execution_count": 38,
   "metadata": {},
   "outputs": [],
   "source": [
    "# train_label"
   ]
  },
  {
   "cell_type": "code",
   "execution_count": 39,
   "metadata": {},
   "outputs": [
    {
     "name": "stdout",
     "output_type": "stream",
     "text": [
      "\n",
      "ACCURACY OF THE XGBOOST MODEL:  1.0\n"
     ]
    }
   ],
   "source": [
    "from xgboost import XGBClassifier\n",
    "model_xg=XGBClassifier()\n",
    "model_xg.fit(train_data,train_label)\n",
    "y_pred=model_xg.predict(test_data)\n",
    "print() \n",
    "  \n",
    "# using metrics module for accuracy calculation \n",
    "print(\"ACCURACY OF THE XGBOOST MODEL: \", metrics.accuracy_score(test_label, y_pred))"
   ]
  },
  {
   "cell_type": "code",
   "execution_count": 40,
   "metadata": {},
   "outputs": [
    {
     "name": "stdout",
     "output_type": "stream",
     "text": [
      "\n",
      "ACCURACY OF THE SVM MODEL:  1.0\n"
     ]
    }
   ],
   "source": [
    "model_svm=svm.SVC()\n",
    "model_svm.fit(train_data,train_label)\n",
    "y_pred=model_svm.predict(test_data)\n",
    "print() \n",
    "  \n",
    "# using metrics module for accuracy calculation \n",
    "print(\"ACCURACY OF THE SVM MODEL: \", metrics.accuracy_score(test_label, y_pred))"
   ]
  },
  {
   "cell_type": "markdown",
   "metadata": {},
   "source": [
    "# APOLLOS"
   ]
  },
  {
   "cell_type": "code",
   "execution_count": 41,
   "metadata": {},
   "outputs": [],
   "source": [
    "haz_gen_apollo, haz_gen_apollo_num = get_apollos(haz_gen)\n",
    "nohaz_gen_apollo, nohaz_gen_apollo_num = get_apollos(nohaz_gen)\n",
    "apollo_gen_num = haz_gen_apollo_num + nohaz_gen_apollo_num\n",
    "\n",
    "haz_genu_apollo, haz_genu_apollo_num = get_apollos(haz_genu)\n",
    "nohaz_genu_apollo, nohaz_genu_apollo_num = get_apollos(nohaz_genu)\n",
    "apollo_genu_num = haz_genu_apollo_num + nohaz_genu_apollo_num\n",
    "\n",
    "haz_real_apollo, haz_real_apollo_num = get_apollos(haz_real)\n",
    "nohaz_real_apollo, nohaz_real_apollo_num = get_apollos(nohaz_real)\n",
    "apollo_real_num = haz_real_apollo_num + nohaz_real_apollo_num\n"
   ]
  },
  {
   "cell_type": "code",
   "execution_count": 42,
   "metadata": {},
   "outputs": [
    {
     "name": "stdout",
     "output_type": "stream",
     "text": [
      "Number of virtual PHAs in the group: 45\n",
      "Number of virtual NHAs in the group: 44\n",
      "Number of virtual Apollo: 89\n",
      "Apollo group weight: 0.7542372881355932\n"
     ]
    }
   ],
   "source": [
    "print (\"Number of virtual PHAs in the group:\", haz_gen_apollo_num)\n",
    "print (\"Number of virtual NHAs in the group:\", nohaz_gen_apollo_num)\n",
    "print (\"Number of virtual Apollo:\", apollo_gen_num)\n",
    "print (\"Apollo group weight:\", float(apollo_gen_num)/gen_num)"
   ]
  },
  {
   "cell_type": "code",
   "execution_count": 43,
   "metadata": {},
   "outputs": [
    {
     "name": "stdout",
     "output_type": "stream",
     "text": [
      "Number of real PHAs in the group: 45\n",
      "Number of real NHAs in the group: 44\n",
      "Number of real Apollo: 89\n",
      "Apollo group weight: 0.7542372881355932\n"
     ]
    }
   ],
   "source": [
    "print (\"Number of real PHAs in the group:\", haz_real_apollo_num)\n",
    "print (\"Number of real NHAs in the group:\", nohaz_real_apollo_num)\n",
    "print (\"Number of real Apollo:\", apollo_real_num)\n",
    "print (\"Apollo group weight:\", float(apollo_real_num)/real_num)"
   ]
  },
  {
   "cell_type": "code",
   "execution_count": 44,
   "metadata": {},
   "outputs": [],
   "source": [
    "pd.options.mode.chained_assignment = None\n",
    "# haz_gen_apollo = add_doublemirror_column(haz_gen_apollo, 'w', 180.0)\n",
    "# haz_genu_apollo = add_doublemirror_column(haz_genu_apollo, 'w', 180.0)\n",
    "# nohaz_gen_apollo = add_doublemirror_column(nohaz_gen_apollo, 'w', 180.0)\n",
    "# nohaz_genu_apollo = add_doublemirror_column(nohaz_genu_apollo, 'w', 180.0)\n",
    "# haz_genu_apollo = add_doublemirror_column(haz_genu_apollo, 'w', 180.0)\n",
    "norm_haz_gen_apollo=normalize_data(haz_gen_apollo,['w','q','i'])\n",
    "norm_nohaz_gen_apollo=normalize_data(nohaz_gen_apollo,['w','q','i'])\n",
    "norm_haz_genu_apollo=normalize_data(haz_genu_apollo,['w','q','i'])\n",
    "norm_nohaz_genu_apollo=normalize_data(nohaz_genu_apollo,['w','q','i'])\n",
    "norm_haz_real_apollo=normalize_data(haz_real_apollo,['w','q','i'])\n",
    "norm_nohaz_real_apollo=normalize_data(nohaz_real_apollo,['w','q','i'])"
   ]
  },
  {
   "cell_type": "code",
   "execution_count": 45,
   "metadata": {},
   "outputs": [],
   "source": [
    "genu = pd.concat((haz_genu, nohaz_genu))\n",
    "genu_rest = pd.concat((haz_genu_rest, nohaz_genu_rest))"
   ]
  },
  {
   "cell_type": "code",
   "execution_count": 46,
   "metadata": {},
   "outputs": [
    {
     "data": {
      "text/plain": [
       "<mpl_toolkits.mplot3d.art3d.Path3DCollection at 0x261ee323350>"
      ]
     },
     "execution_count": 46,
     "metadata": {},
     "output_type": "execute_result"
    },
    {
     "data": {
      "image/png": "[encoded data removed]",
      "text/plain": [
       "<Figure size 640x480 with 1 Axes>"
      ]
     },
     "metadata": {},
     "output_type": "display_data"
    }
   ],
   "source": [
    "ax = plt.axes(projection =\"3d\")\n",
    "ax.scatter3D(norm_haz_real_apollo['w'],norm_haz_real_apollo['q'],norm_haz_real_apollo['i'])\n",
    "ax.scatter3D(norm_nohaz_real_apollo['w'],norm_nohaz_real_apollo['q'],norm_nohaz_real_apollo['i'])"
   ]
  },
  {
   "cell_type": "code",
   "execution_count": 47,
   "metadata": {},
   "outputs": [
    {
     "data": {
      "text/plain": [
       "<matplotlib.collections.PathCollection at 0x261ee3ae3d0>"
      ]
     },
     "execution_count": 47,
     "metadata": {},
     "output_type": "execute_result"
    },
    {
     "data": {
      "image/png": "[encoded data removed]",
      "text/plain": [
       "<Figure size 640x480 with 1 Axes>"
      ]
     },
     "metadata": {},
     "output_type": "display_data"
    }
   ],
   "source": [
    "plt.scatter(np.array(norm_nohaz_gen_apollo['w']),np.array(norm_nohaz_gen_apollo['q']),s=.2)\n",
    "plt.scatter(np.array(norm_haz_gen_apollo['w']),np.array(norm_haz_gen_apollo['q']),s=.2)"
   ]
  },
  {
   "cell_type": "code",
   "execution_count": 48,
   "metadata": {},
   "outputs": [
    {
     "data": {
      "text/plain": [
       "2942"
      ]
     },
     "execution_count": 48,
     "metadata": {},
     "output_type": "execute_result"
    }
   ],
   "source": [
    "data=pd.concat([norm_haz_genu_apollo,norm_nohaz_genu_apollo])\n",
    "data_label=[1 for i in range(len(norm_haz_genu_apollo))]\n",
    "for i in range(len(norm_nohaz_genu_apollo)):\n",
    "    data_label.append(0)\n",
    "train_data,test_data,train_label,test_label=train_test_split(data,data_label,test_size=0.3,shuffle=True)\n",
    "len(train_data)"
   ]
  },
  {
   "cell_type": "code",
   "execution_count": 49,
   "metadata": {},
   "outputs": [],
   "source": [
    "# test_data=pd.concat([norm_haz_gen_apollo,norm_nohaz_gen_apollo])\n",
    "# test_label=[1 for i in range(len(norm_haz_gen_apollo))]\n",
    "# for i in range(len(norm_nohaz_gen_apollo)):\n",
    "#     test_label.append(0)\n",
    "# len(test_label)"
   ]
  },
  {
   "cell_type": "markdown",
   "metadata": {},
   "source": [
    "## Random Forest"
   ]
  },
  {
   "cell_type": "code",
   "execution_count": 50,
   "metadata": {},
   "outputs": [
    {
     "name": "stdout",
     "output_type": "stream",
     "text": [
      "\n",
      "ACCURACY OF THE RANDOM FOREST MODEL:  0.9326465927099842\n"
     ]
    }
   ],
   "source": [
    "clf = RandomForestClassifier(max_depth=5,min_samples_split=2,)   \n",
    "clf.fit(train_data,train_label)\n",
    "y_pred=clf.predict(test_data)\n",
    "from sklearn import metrics   \n",
    "print() \n",
    "  \n",
    "# using metrics module for accuracy calculation \n",
    "print(\"ACCURACY OF THE RANDOM FOREST MODEL: \", metrics.accuracy_score(test_label, y_pred)) "
   ]
  },
  {
   "cell_type": "markdown",
   "metadata": {},
   "source": [
    "## XG Boost"
   ]
  },
  {
   "cell_type": "code",
   "execution_count": 51,
   "metadata": {},
   "outputs": [
    {
     "name": "stdout",
     "output_type": "stream",
     "text": [
      "\n",
      "ACCURACY OF THE XGBOOST MODEL:  0.9469096671949286\n"
     ]
    }
   ],
   "source": [
    "model_xg=XGBClassifier()\n",
    "model_xg.fit(train_data,train_label)\n",
    "y_pred=model_xg.predict(test_data)\n",
    "print() \n",
    "  \n",
    "# using metrics module for accuracy calculation \n",
    "print(\"ACCURACY OF THE XGBOOST MODEL: \", metrics.accuracy_score(test_label, y_pred))"
   ]
  },
  {
   "cell_type": "markdown",
   "metadata": {},
   "source": [
    "## SVM"
   ]
  },
  {
   "cell_type": "code",
   "execution_count": 52,
   "metadata": {},
   "outputs": [
    {
     "name": "stdout",
     "output_type": "stream",
     "text": [
      "\n",
      "ACCURACY OF THE SVM MODEL:  0.9326465927099842\n"
     ]
    }
   ],
   "source": [
    "model_svm=svm.SVC()\n",
    "model_svm.fit(train_data,train_label)\n",
    "y_pred=model_svm.predict(test_data)\n",
    "print() \n",
    "  \n",
    "# using metrics module for accuracy calculation \n",
    "print(\"ACCURACY OF THE SVM MODEL: \", metrics.accuracy_score(test_label, y_pred))"
   ]
  }
 ],
 "metadata": {
  "kernelspec": {
   "display_name": "Python 3",
   "language": "python",
   "name": "python3"
  },
  "language_info": {
   "codemirror_mode": {
    "name": "ipython",
    "version": 3
   },
   "file_extension": ".py",
   "mimetype": "text/x-python",
   "name": "python",
   "nbconvert_exporter": "python",
   "pygments_lexer": "ipython3",
   "version": "3.11.0"
  }
 },
 "nbformat": 4,
 "nbformat_minor": 2
}
